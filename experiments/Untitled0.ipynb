{
 "metadata": {
  "name": "Untitled0"
 },
 "nbformat": 3,
 "nbformat_minor": 0,
 "worksheets": [
  {
   "cells": [
    {
     "cell_type": "code",
     "collapsed": false,
     "input": [
      "import ubiClient as ub\n",
      "\n",
      "import numpy as np\n",
      "import pandas as pd\n",
      "import json\n",
      "import datetime\n",
      "from pylab import plot, plot_date"
     ],
     "language": "python",
     "metadata": {},
     "outputs": [],
     "prompt_number": 1
    },
    {
     "cell_type": "code",
     "collapsed": false,
     "input": [
      "uno = open(\"12108.json\")\n",
      "uno = uno.read()\n",
      "uno = pd.DataFrame(json.loads(uno))\n",
      "uno['sensor_name'] = 'gen1'\n",
      "uno['sensor_id'] = 12108\n",
      "uno['ubiid'] = uno['id']\n",
      "del uno['id']\n",
      "uno['valor'] = uno['value']\n",
      "del uno['value']\n",
      "\n",
      "\n",
      "dos= open(\"12109.json\")\n",
      "dos = dos.read()\n",
      "dos = pd.DataFrame(json.loads(dos))\n",
      "dos['sensor_name'] = 'gen2'\n",
      "dos['sensor_id'] = 12109\n",
      "dos['ubiid'] = dos['id']\n",
      "del dos['id']\n",
      "dos['valor'] = dos['value']\n",
      "del dos['value']\n",
      "\n",
      "tres= open(\"12110.json\")\n",
      "tres = tres.read()\n",
      "tres = pd.DataFrame(json.loads(tres))\n",
      "tres['sensor_name'] = 'gen3'\n",
      "tres['sensor_id'] = 12110\n",
      "tres['ubiid'] = tres['id']\n",
      "del tres['id']\n",
      "tres['valor'] = tres['value']\n",
      "del tres['value']\n",
      "\n",
      "total = uno.append(dos).append(tres)\n",
      "\n",
      "nmuestra = 1000000\n",
      "muestra = uno.head(nmuestra).append(dos.head(nmuestra)).append(tres.head(nmuestra))\n",
      "muestra['valor'] = muestra['valor'].apply(float)\n",
      "\n",
      "a =muestra['timestamp']/1000\n",
      "a =a.apply(datetime.datetime.fromtimestamp)\n",
      "#del muestra['timestamp']\n",
      "muestra['time']=a\n",
      "muestra.head()\n",
      "#uno = uno.set_index('date')\n",
      "#uno.head()\n",
      "#uno.index\n",
      "muestra = muestra.sort('time',ascending=True)\n",
      "muestra"
     ],
     "language": "python",
     "metadata": {},
     "outputs": [
      {
       "output_type": "pyout",
       "prompt_number": 91,
       "text": [
        "<class 'pandas.core.frame.DataFrame'>\n",
        "Int64Index: 3443 entries, 1162 to 0\n",
        "Data columns:\n",
        "timestamp      3443  non-null values\n",
        "sensor_name    3443  non-null values\n",
        "sensor_id      3443  non-null values\n",
        "ubiid          3443  non-null values\n",
        "valor          3443  non-null values\n",
        "time           3443  non-null values\n",
        "dtypes: float64(1), int64(3), object(2)"
       ]
      }
     ],
     "prompt_number": 91
    },
    {
     "cell_type": "code",
     "collapsed": false,
     "input": [
      "def cut_minute(date):\n",
      "    return date.replace(minute=0)\n",
      "\n",
      "muestra['hora'] = muestra['time'].apply(cut_minute)\n",
      "print muestra.head(18)\n",
      "\n",
      "m =muestra[muestra['valor']>2400]\n",
      "print m\n",
      "m.count()\n"
     ],
     "language": "python",
     "metadata": {},
     "outputs": [
      {
       "output_type": "stream",
       "stream": "stdout",
       "text": [
        "          timestamp sensor_name  sensor_id     ubiid        valor                 time                 hora\n",
        "1162  1352592000000        gen1      12108  96445771  1456.000000  2012-11-10 19:00:00  2012-11-10 19:00:00\n",
        "1139  1352592000000        gen2      12109  96445871  1456.000000  2012-11-10 19:00:00  2012-11-10 19:00:00\n",
        "1139  1352592000000        gen3      12110  96445926  1456.000000  2012-11-10 19:00:00  2012-11-10 19:00:00\n",
        "1161  1352592120000        gen1      12108  96455362  1793.099488  2012-11-10 19:02:00  2012-11-10 19:00:00\n",
        "1138  1352592120000        gen2      12109  96458270   558.986129  2012-11-10 19:02:00  2012-11-10 19:00:00\n",
        "1138  1352592120000        gen3      12110  96460007  2281.389278  2012-11-10 19:02:00  2012-11-10 19:00:00\n",
        "1160  1352592240000        gen1      12108  96455363  1799.662437  2012-11-10 19:04:00  2012-11-10 19:00:00\n",
        "1137  1352592240000        gen2      12109  96458271   554.107333  2012-11-10 19:04:00  2012-11-10 19:00:00\n",
        "1137  1352592240000        gen3      12110  96460008  2288.830155  2012-11-10 19:04:00  2012-11-10 19:00:00\n",
        "1159  1352592360000        gen1      12108  96455364  1801.750410  2012-11-10 19:06:00  2012-11-10 19:00:00\n",
        "1136  1352592360000        gen2      12109  96458272   563.130033  2012-11-10 19:06:00  2012-11-10 19:00:00\n",
        "1136  1352592360000        gen3      12110  96460009  2282.510689  2012-11-10 19:06:00  2012-11-10 19:00:00\n",
        "1158  1352592480000        gen1      12108  96455365  1798.887075  2012-11-10 19:08:00  2012-11-10 19:00:00\n",
        "1135  1352592480000        gen2      12109  96458273   551.028095  2012-11-10 19:08:00  2012-11-10 19:00:00\n",
        "1135  1352592480000        gen3      12110  96460010  2291.316094  2012-11-10 19:08:00  2012-11-10 19:00:00\n",
        "1157  1352592600000        gen1      12108  96455366  1805.469040  2012-11-10 19:10:00  2012-11-10 19:00:00\n",
        "1134  1352592600000        gen2      12109  96458274   548.106834  2012-11-10 19:10:00  2012-11-10 19:00:00\n",
        "1134  1352592600000        gen3      12110  96460011  2290.715097  2012-11-10 19:10:00  2012-11-10 19:00:00\n",
        "         timestamp sensor_name  sensor_id     ubiid         valor                 time                 hora\n",
        "653  1352652960000        gen1      12108  98924818  2.337160e+08  2012-11-11 11:56:00  2012-11-11 11:00:00\n",
        "622  1352656560000        gen1      12108  98924184  1.168451e+08  2012-11-11 12:56:00  2012-11-11 12:00:00\n",
        "590  1352660160000        gen1      12108  98923871  1.167943e+08  2012-11-11 13:56:00  2012-11-11 13:00:00\n",
        "591  1352660160000        gen1      12108  98923470  1.168267e+08  2012-11-11 13:56:00  2012-11-11 13:00:00\n",
        "559  1352663760000        gen1      12108  98923223  1.167891e+08  2012-11-11 14:56:00  2012-11-11 14:00:00\n",
        "528  1352667360000        gen1      12108  98922999  5.839718e+07  2012-11-11 15:56:00  2012-11-11 15:00:00\n",
        "497  1352670960000        gen1      12108  98922881  5.835673e+07  2012-11-11 16:56:00  2012-11-11 16:00:00\n",
        "466  1352674560000        gen1      12108  98922774  2.917520e+07  2012-11-11 17:56:00  2012-11-11 17:00:00\n",
        "435  1352678160000        gen1      12108  98922741  2.913252e+07  2012-11-11 18:56:00  2012-11-11 18:00:00\n",
        "404  1352681760000        gen1      12108  98922693  1.455883e+07  2012-11-11 19:56:00  2012-11-11 19:00:00\n",
        "373  1352685360000        gen1      12108  98922677  1.451247e+07  2012-11-11 20:56:00  2012-11-11 20:00:00\n",
        "342  1352688960000        gen1      12108  98922624  7.243048e+06  2012-11-11 21:56:00  2012-11-11 21:00:00\n",
        "311  1352692560000        gen1      12108  98922618  7.194301e+06  2012-11-11 22:56:00  2012-11-11 22:00:00\n",
        "280  1352696160000        gen1      12108  98922563  3.579691e+06  2012-11-11 23:56:00  2012-11-11 23:00:00\n",
        "249  1352699760000        gen1      12108  98922476  1.794001e+06  2012-11-12 00:56:00  2012-11-12 00:00:00\n",
        "218  1352703360000        gen1      12108  98922440  1.756542e+06  2012-11-12 01:56:00  2012-11-12 01:00:00\n",
        "187  1352706960000        gen1      12108  98922426  8.783010e+05  2012-11-12 02:56:00  2012-11-12 02:00:00\n",
        "156  1352710560000        gen1      12108  98922417  8.372082e+05  2012-11-12 03:56:00  2012-11-12 03:00:00\n",
        "125  1352714160000        gen1      12108  98922404  4.137003e+05  2012-11-12 04:56:00  2012-11-12 04:00:00\n",
        "94   1352717760000        gen1      12108  98922395  3.682075e+05  2012-11-12 05:56:00  2012-11-12 05:00:00\n",
        "63   1352721360000        gen1      12108  98922391  1.738307e+05  2012-11-12 06:56:00  2012-11-12 06:00:00\n",
        "32   1352724960000        gen1      12108  98922379  1.264035e+05  2012-11-12 07:56:00  2012-11-12 07:00:00\n",
        "1    1352728560000        gen1      12108  98922369  4.880450e+04  2012-11-12 08:56:00  2012-11-12 08:00:00\n"
       ]
      },
      {
       "output_type": "pyout",
       "prompt_number": 111,
       "text": [
        "timestamp      23\n",
        "sensor_name    23\n",
        "sensor_id      23\n",
        "ubiid          23\n",
        "valor          23\n",
        "time           23\n",
        "hora           23"
       ]
      }
     ],
     "prompt_number": 111
    },
    {
     "cell_type": "code",
     "collapsed": false,
     "input": [
      "porhoras = muestra.groupby(['sensor_id','hora']).valor.sum()\n",
      "porhoras =porhoras.reset_index()\n",
      "#print porhoras\n",
      "#print porhoras\n",
      "porhoras[porhoras['valor']>=2300000000]\n",
      "porhoras.max()"
     ],
     "language": "python",
     "metadata": {},
     "outputs": [
      {
       "output_type": "pyout",
       "prompt_number": 132,
       "text": [
        "sensor_id                  12110\n",
        "hora         2012-11-12 08:00:00\n",
        "valor               2.337671e+08"
       ]
      }
     ],
     "prompt_number": 132
    },
    {
     "cell_type": "code",
     "collapsed": false,
     "input": [
      "def cut_minute(date):\n",
      "    return date.replace(minute=0)\n",
      "\n",
      "a = muestra['time']\n",
      "b = a.apply(cut_minute)\n",
      "print a.head()\n",
      "print b.head()"
     ],
     "language": "python",
     "metadata": {},
     "outputs": [
      {
       "output_type": "stream",
       "stream": "stdout",
       "text": [
        "99    2012-11-12 05:40:00\n",
        "99    2012-11-12 05:40:00\n",
        "98    2012-11-12 05:42:00\n",
        "98    2012-11-12 05:42:00\n",
        "97    2012-11-12 05:44:00\n",
        "Name: time\n",
        "99    2012-11-12 05:00:00\n",
        "99    2012-11-12 05:00:00\n",
        "98    2012-11-12 05:00:00\n",
        "98    2012-11-12 05:00:00\n",
        "97    2012-11-12 05:00:00\n",
        "Name: time\n"
       ]
      }
     ],
     "prompt_number": 39
    },
    {
     "cell_type": "code",
     "collapsed": false,
     "input": [
      "\n",
      "datetime.datetime.fromtimestamp(1352728680)\n",
      "a =uno['timestamp']/1000\n",
      "a =a.apply(datetime.datetime.fromtimestamp)\n",
      "uno['timestamp']\n",
      "uno['date']=a\n",
      "print uno.head(3)\n",
      "uno = uno.set_index('date')\n",
      "uno.head()\n",
      "uno.index"
     ],
     "language": "python",
     "metadata": {},
     "outputs": [
      {
       "output_type": "stream",
       "stream": "stdout",
       "text": [
        "                           id      timestamp                      value                 date\n",
        "date                                                                                        \n",
        "2012-11-12 08:58:00  96461194  1352728680000  2233.18565451000000000000  2012-11-12 08:58:00\n",
        "2012-11-12 08:56:00  96461193  1352728560000  2227.25157741000000000000  2012-11-12 08:56:00\n",
        "2012-11-12 08:54:00  96461192  1352728440000  2216.27645726000000000000  2012-11-12 08:54:00\n"
       ]
      },
      {
       "output_type": "pyout",
       "prompt_number": 73,
       "text": [
        "<class 'pandas.tseries.index.DatetimeIndex'>\n",
        "[2012-11-12 08:58:00, ..., 2012-11-10 19:00:00]\n",
        "Length: 1140, Freq: None, Timezone: None"
       ]
      }
     ],
     "prompt_number": 73
    },
    {
     "cell_type": "code",
     "collapsed": false,
     "input": [
      "valores = uno['value']\n",
      "print type(valores)\n",
      "plot_date(valores.index,valores.values,fmt=\"r-\")"
     ],
     "language": "python",
     "metadata": {},
     "outputs": [
      {
       "output_type": "stream",
       "stream": "stdout",
       "text": [
        "<class 'pandas.core.series.TimeSeries'>\n"
       ]
      },
      {
       "output_type": "pyout",
       "prompt_number": 89,
       "text": [
        "[<matplotlib.lines.Line2D at 0xa9cf64c>]"
       ]
      },
      {
       "output_type": "display_data",
       "png": "[encoded data removed]"
      }
     ],
     "prompt_number": 89
    },
    {
     "cell_type": "code",
     "collapsed": false,
     "input": [
      "uno =uno.sort(ascending=True)\n",
      "plot_date(uno.index[1100:],uno['value'].values[1100:],fmt=\"b-\")"
     ],
     "language": "python",
     "metadata": {},
     "outputs": [
      {
       "output_type": "pyout",
       "prompt_number": 102,
       "text": [
        "[<matplotlib.lines.Line2D at 0xb1287cc>]"
       ]
      },
      {
       "output_type": "display_data",
       "png": "[encoded data removed]"
      }
     ],
     "prompt_number": 102
    }
   ],
   "metadata": {}
  }
 ]
}